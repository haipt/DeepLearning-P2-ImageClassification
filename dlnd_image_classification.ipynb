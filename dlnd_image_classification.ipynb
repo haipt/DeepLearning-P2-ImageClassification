{
 "cells": [
  {
   "cell_type": "markdown",
   "metadata": {
    "collapsed": true
   },
   "source": [
    "# Image Classification\n",
    "In this project, you'll classify images from the [CIFAR-10 dataset](https://www.cs.toronto.edu/~kriz/cifar.html).  The dataset consists of airplanes, dogs, cats, and other objects. You'll preprocess the images, then train a convolutional neural network on all the samples. The images need to be normalized and the labels need to be one-hot encoded.  You'll get to apply what you learned and build a convolutional, max pooling, dropout, and fully connected layers.  At the end, you'll get to see your neural network's predictions on the sample images.\n",
    "## Get the Data\n",
    "Run the following cell to download the [CIFAR-10 dataset for python](https://www.cs.toronto.edu/~kriz/cifar-10-python.tar.gz)."
   ]
  },
  {
   "cell_type": "code",
   "execution_count": 5,
   "metadata": {
    "collapsed": false
   },
   "outputs": [
    {
     "name": "stdout",
     "output_type": "stream",
     "text": [
      "All files found!\n"
     ]
    }
   ],
   "source": [
    "\"\"\"\n",
    "DON'T MODIFY ANYTHING IN THIS CELL THAT IS BELOW THIS LINE\n",
    "\"\"\"\n",
    "from urllib.request import urlretrieve\n",
    "from os.path import isfile, isdir\n",
    "from tqdm import tqdm\n",
    "import problem_unittests as tests\n",
    "import tarfile\n",
    "\n",
    "cifar10_dataset_folder_path = 'cifar-10-batches-py'\n",
    "\n",
    "class DLProgress(tqdm):\n",
    "    last_block = 0\n",
    "\n",
    "    def hook(self, block_num=1, block_size=1, total_size=None):\n",
    "        self.total = total_size\n",
    "        self.update((block_num - self.last_block) * block_size)\n",
    "        self.last_block = block_num\n",
    "\n",
    "if not isfile('cifar-10-python.tar.gz'):\n",
    "    with DLProgress(unit='B', unit_scale=True, miniters=1, desc='CIFAR-10 Dataset') as pbar:\n",
    "        urlretrieve(\n",
    "            'https://www.cs.toronto.edu/~kriz/cifar-10-python.tar.gz',\n",
    "            'cifar-10-python.tar.gz',\n",
    "            pbar.hook)\n",
    "\n",
    "if not isdir(cifar10_dataset_folder_path):\n",
    "    with tarfile.open('cifar-10-python.tar.gz') as tar:\n",
    "        tar.extractall()\n",
    "        tar.close()\n",
    "\n",
    "\n",
    "tests.test_folder_path(cifar10_dataset_folder_path)"
   ]
  },
  {
   "cell_type": "markdown",
   "metadata": {},
   "source": [
    "## Explore the Data\n",
    "The dataset is broken into batches to prevent your machine from running out of memory.  The CIFAR-10 dataset consists of 5 batches, named `data_batch_1`, `data_batch_2`, etc.. Each batch contains the labels and images that are one of the following:\n",
    "* airplane\n",
    "* automobile\n",
    "* bird\n",
    "* cat\n",
    "* deer\n",
    "* dog\n",
    "* frog\n",
    "* horse\n",
    "* ship\n",
    "* truck\n",
    "\n",
    "Understanding a dataset is part of making predictions on the data.  Play around with the code cell below by changing the `batch_id` and `sample_id`. The `batch_id` is the id for a batch (1-5). The `sample_id` is the id for a image and label pair in the batch.\n",
    "\n",
    "Ask yourself \"What are all possible labels?\", \"What is the range of values for the image data?\", \"Are the labels in order or random?\".  Answers to questions like these will help you preprocess the data and end up with better predictions."
   ]
  },
  {
   "cell_type": "code",
   "execution_count": 6,
   "metadata": {
    "collapsed": false
   },
   "outputs": [
    {
     "name": "stdout",
     "output_type": "stream",
     "text": [
      "\n",
      "Stats of batch 1:\n",
      "Samples: 10000\n",
      "Label Counts: {0: 1005, 1: 974, 2: 1032, 3: 1016, 4: 999, 5: 937, 6: 1030, 7: 1001, 8: 1025, 9: 981}\n",
      "First 20 Labels: [6, 9, 9, 4, 1, 1, 2, 7, 8, 3, 4, 7, 7, 2, 9, 9, 9, 3, 2, 6]\n",
      "\n",
      "Example of Image 5:\n",
      "Image - Min Value: 0 Max Value: 252\n",
      "Image - Shape: (32, 32, 3)\n",
      "Label - Label Id: 1 Name: automobile\n"
     ]
    },
    {
     "data": {
      "image/png": "[encoded data removed]",
      "text/plain": [
       "<matplotlib.figure.Figure at 0x7f2cdcb79278>"
      ]
     },
     "metadata": {
      "image/png": {
       "height": 250,
       "width": 253
      }
     },
     "output_type": "display_data"
    }
   ],
   "source": [
    "%matplotlib inline\n",
    "%config InlineBackend.figure_format = 'retina'\n",
    "\n",
    "import helper\n",
    "import numpy as np\n",
    "\n",
    "# Explore the dataset\n",
    "batch_id = 1\n",
    "sample_id = 5\n",
    "helper.display_stats(cifar10_dataset_folder_path, batch_id, sample_id)"
   ]
  },
  {
   "cell_type": "markdown",
   "metadata": {},
   "source": [
    "## Implement Preprocess Functions\n",
    "### Normalize\n",
    "In the cell below, implement the `normalize` function to take in image data, `x`, and return it as a normalized Numpy array. The values should be in the range of 0 to 1, inclusive.  The return object should be the same shape as `x`."
   ]
  },
  {
   "cell_type": "code",
   "execution_count": 7,
   "metadata": {
    "collapsed": false
   },
   "outputs": [
    {
     "name": "stdout",
     "output_type": "stream",
     "text": [
      "Tests Passed\n"
     ]
    }
   ],
   "source": [
    "def normalize(x):\n",
    "    \"\"\"\n",
    "    Normalize a list of sample image data in the range of 0 to 1\n",
    "    : x: List of image data.  The image shape is (32, 32, 3)\n",
    "    : return: Numpy array of normalize data\n",
    "    \"\"\"\n",
    "    # TODO: Implement Function\n",
    "    return np.array(x) / 255.0\n",
    "\n",
    "\n",
    "\"\"\"\n",
    "DON'T MODIFY ANYTHING IN THIS CELL THAT IS BELOW THIS LINE\n",
    "\"\"\"\n",
    "tests.test_normalize(normalize)"
   ]
  },
  {
   "cell_type": "markdown",
   "metadata": {},
   "source": [
    "### One-hot encode\n",
    "Just like the previous code cell, you'll be implementing a function for preprocessing.  This time, you'll implement the `one_hot_encode` function. The input, `x`, are a list of labels.  Implement the function to return the list of labels as One-Hot encoded Numpy array.  The possible values for labels are 0 to 9. The one-hot encoding function should return the same encoding for each value between each call to `one_hot_encode`.  Make sure to save the map of encodings outside the function.\n",
    "\n",
    "Hint: Don't reinvent the wheel."
   ]
  },
  {
   "cell_type": "code",
   "execution_count": 8,
   "metadata": {
    "collapsed": false
   },
   "outputs": [
    {
     "name": "stdout",
     "output_type": "stream",
     "text": [
      "Tests Passed\n"
     ]
    }
   ],
   "source": [
    "def one_hot_encode(x):\n",
    "    \"\"\"\n",
    "    One hot encode a list of sample labels. Return a one-hot encoded vector for each label.\n",
    "    : x: List of sample Labels\n",
    "    : return: Numpy array of one-hot encoded labels\n",
    "    \"\"\"\n",
    "    # TODO: Implement Function\n",
    "    return np.array([[int(i==l) for i in range(10)] for l in x])\n",
    "\n",
    "\n",
    "\n",
    "\"\"\"\n",
    "DON'T MODIFY ANYTHING IN THIS CELL THAT IS BELOW THIS LINE\n",
    "\"\"\"\n",
    "tests.test_one_hot_encode(one_hot_encode)"
   ]
  },
  {
   "cell_type": "markdown",
   "metadata": {},
   "source": [
    "### Randomize Data\n",
    "As you saw from exploring the data above, the order of the samples are randomized.  It doesn't hurt to randomize it again, but you don't need to for this dataset."
   ]
  },
  {
   "cell_type": "markdown",
   "metadata": {},
   "source": [
    "## Preprocess all the data and save it\n",
    "Running the code cell below will preprocess all the CIFAR-10 data and save it to file. The code below also uses 10% of the training data for validation."
   ]
  },
  {
   "cell_type": "code",
   "execution_count": 32,
   "metadata": {
    "collapsed": false
   },
   "outputs": [],
   "source": [
    "\"\"\"\n",
    "DON'T MODIFY ANYTHING IN THIS CELL\n",
    "\"\"\"\n",
    "# Preprocess Training, Validation, and Testing Data\n",
    "helper.preprocess_and_save_data(cifar10_dataset_folder_path, normalize, one_hot_encode)"
   ]
  },
  {
   "cell_type": "markdown",
   "metadata": {},
   "source": [
    "# Check Point\n",
    "This is your first checkpoint.  If you ever decide to come back to this notebook or have to restart the notebook, you can start from here.  The preprocessed data has been saved to disk."
   ]
  },
  {
   "cell_type": "code",
   "execution_count": 9,
   "metadata": {
    "collapsed": true
   },
   "outputs": [],
   "source": [
    "\"\"\"\n",
    "DON'T MODIFY ANYTHING IN THIS CELL\n",
    "\"\"\"\n",
    "import pickle\n",
    "import problem_unittests as tests\n",
    "import helper\n",
    "\n",
    "# Load the Preprocessed Validation data\n",
    "valid_features, valid_labels = pickle.load(open('preprocess_validation.p', mode='rb'))"
   ]
  },
  {
   "cell_type": "markdown",
   "metadata": {},
   "source": [
    "## Build the network\n",
    "For the neural network, you'll build each layer into a function.  Most of the code you've seen has been outside of functions. To test your code more thoroughly, we require that you put each layer in a function.  This allows us to give you better feedback and test for simple mistakes using our unittests before you submit your project.\n",
    "\n",
    ">**Note:** If you're finding it hard to dedicate enough time for this course each week, we've provided a small shortcut to this part of the project. In the next couple of problems, you'll have the option to use classes from the [TensorFlow Layers](https://www.tensorflow.org/api_docs/python/tf/layers) or [TensorFlow Layers (contrib)](https://www.tensorflow.org/api_guides/python/contrib.layers) packages to build each layer, except the layers you build in the \"Convolutional and Max Pooling Layer\" section.  TF Layers is similar to Keras's and TFLearn's abstraction to layers, so it's easy to pickup.\n",
    "\n",
    ">However, if you would like to get the most out of this course, try to solve all the problems _without_ using anything from the TF Layers packages. You **can** still use classes from other packages that happen to have the same name as ones you find in TF Layers! For example, instead of using the TF Layers version of the `conv2d` class, [tf.layers.conv2d](https://www.tensorflow.org/api_docs/python/tf/layers/conv2d), you would want to use the TF Neural Network version of `conv2d`, [tf.nn.conv2d](https://www.tensorflow.org/api_docs/python/tf/nn/conv2d). \n",
    "\n",
    "Let's begin!\n",
    "\n",
    "### Input\n",
    "The neural network needs to read the image data, one-hot encoded labels, and dropout keep probability. Implement the following functions\n",
    "* Implement `neural_net_image_input`\n",
    " * Return a [TF Placeholder](https://www.tensorflow.org/api_docs/python/tf/placeholder)\n",
    " * Set the shape using `image_shape` with batch size set to `None`.\n",
    " * Name the TensorFlow placeholder \"x\" using the TensorFlow `name` parameter in the [TF Placeholder](https://www.tensorflow.org/api_docs/python/tf/placeholder).\n",
    "* Implement `neural_net_label_input`\n",
    " * Return a [TF Placeholder](https://www.tensorflow.org/api_docs/python/tf/placeholder)\n",
    " * Set the shape using `n_classes` with batch size set to `None`.\n",
    " * Name the TensorFlow placeholder \"y\" using the TensorFlow `name` parameter in the [TF Placeholder](https://www.tensorflow.org/api_docs/python/tf/placeholder).\n",
    "* Implement `neural_net_keep_prob_input`\n",
    " * Return a [TF Placeholder](https://www.tensorflow.org/api_docs/python/tf/placeholder) for dropout keep probability.\n",
    " * Name the TensorFlow placeholder \"keep_prob\" using the TensorFlow `name` parameter in the [TF Placeholder](https://www.tensorflow.org/api_docs/python/tf/placeholder).\n",
    "\n",
    "These names will be used at the end of the project to load your saved model.\n",
    "\n",
    "Note: `None` for shapes in TensorFlow allow for a dynamic size."
   ]
  },
  {
   "cell_type": "code",
   "execution_count": 10,
   "metadata": {
    "collapsed": false
   },
   "outputs": [
    {
     "name": "stdout",
     "output_type": "stream",
     "text": [
      "[None, 32, 32, 3]\n",
      "Image Input Tests Passed.\n",
      "Label Input Tests Passed.\n",
      "Keep Prob Tests Passed.\n"
     ]
    }
   ],
   "source": [
    "import tensorflow as tf\n",
    "\n",
    "def neural_net_image_input(image_shape):\n",
    "    \"\"\"\n",
    "    Return a Tensor for a bach of image input\n",
    "    : image_shape: Shape of the images\n",
    "    : return: Tensor for image input.\n",
    "    \"\"\"\n",
    "    # TODO: Implement Function\n",
    "    print([None] + list(image_shape))\n",
    "    return tf.placeholder(tf.float32, [None] + list(image_shape), name='x')\n",
    "\n",
    "\n",
    "def neural_net_label_input(n_classes):\n",
    "    \"\"\"\n",
    "    Return a Tensor for a batch of label input\n",
    "    : n_classes: Number of classes\n",
    "    : return: Tensor for label input.\n",
    "    \"\"\"\n",
    "    # TODO: Implement Function\n",
    "    return tf.placeholder(tf.float32, [None, n_classes], name='y')\n",
    "\n",
    "\n",
    "def neural_net_keep_prob_input():\n",
    "    \"\"\"\n",
    "    Return a Tensor for keep probability\n",
    "    : return: Tensor for keep probability.\n",
    "    \"\"\"\n",
    "    # TODO: Implement Function\n",
    "    return tf.placeholder(tf.float32, name='keep_prob')\n",
    "\n",
    "\n",
    "\"\"\"\n",
    "DON'T MODIFY ANYTHING IN THIS CELL THAT IS BELOW THIS LINE\n",
    "\"\"\"\n",
    "tf.reset_default_graph()\n",
    "tests.test_nn_image_inputs(neural_net_image_input)\n",
    "tests.test_nn_label_inputs(neural_net_label_input)\n",
    "tests.test_nn_keep_prob_inputs(neural_net_keep_prob_input)"
   ]
  },
  {
   "cell_type": "markdown",
   "metadata": {},
   "source": [
    "### Convolution and Max Pooling Layer\n",
    "Convolution layers have a lot of success with images. For this code cell, you should implement the function `conv2d_maxpool` to apply convolution then max pooling:\n",
    "* Create the weight and bias using `conv_ksize`, `conv_num_outputs` and the shape of `x_tensor`.\n",
    "* Apply a convolution to `x_tensor` using weight and `conv_strides`.\n",
    " * We recommend you use same padding, but you're welcome to use any padding.\n",
    "* Add bias\n",
    "* Add a nonlinear activation to the convolution.\n",
    "* Apply Max Pooling using `pool_ksize` and `pool_strides`.\n",
    " * We recommend you use same padding, but you're welcome to use any padding.\n",
    "\n",
    "**Note:** You **can't** use [TensorFlow Layers](https://www.tensorflow.org/api_docs/python/tf/layers) or [TensorFlow Layers (contrib)](https://www.tensorflow.org/api_guides/python/contrib.layers) for **this** layer, but you can still use TensorFlow's [Neural Network](https://www.tensorflow.org/api_docs/python/tf/nn) package. You may still use the shortcut option for all the **other** layers."
   ]
  },
  {
   "cell_type": "code",
   "execution_count": 11,
   "metadata": {
    "collapsed": false
   },
   "outputs": [
    {
     "name": "stdout",
     "output_type": "stream",
     "text": [
      "Tests Passed\n"
     ]
    }
   ],
   "source": [
    "def conv2d_maxpool(x_tensor, conv_num_outputs, conv_ksize, conv_strides, pool_ksize, pool_strides):\n",
    "    \"\"\"\n",
    "    Apply convolution then max pooling to x_tensor\n",
    "    :param x_tensor: TensorFlow Tensor\n",
    "    :param conv_num_outputs: Number of outputs for the convolutional layer\n",
    "    :param conv_ksize: kernal size 2-D Tuple for the convolutional layer\n",
    "    :param conv_strides: Stride 2-D Tuple for convolution\n",
    "    :param pool_ksize: kernal size 2-D Tuple for pool\n",
    "    :param pool_strides: Stride 2-D Tuple for pool\n",
    "    : return: A tensor that represents convolution and max pooling of x_tensor\n",
    "    \"\"\"\n",
    "    # output = tf.layers.conv2d(x_tensor, conv_num_outputs, conv_ksize, conv_strides)\n",
    "    # return tf.layers.max_pooling2d(output, pool_ksize, pool_strides)\n",
    "\n",
    "    # print([conv_ksize[0], conv_ksize[1], int(x_tensor.shape[3]), conv_num_outputs])\n",
    "    weight = tf.Variable(tf.truncated_normal([conv_ksize[0], conv_ksize[1], x_tensor.get_shape().as_list()[3], conv_num_outputs], stddev=0.1))\n",
    "    bias = tf.Variable(tf.truncated_normal([conv_num_outputs], stddev=0.1))\n",
    "    x = tf.nn.conv2d(x_tensor, weight, strides=[1, conv_strides[0], conv_strides[1], 1], padding='SAME')\n",
    "    x = tf.nn.bias_add(x, bias)\n",
    "    x = tf.nn.relu(x)\n",
    "    return tf.nn.max_pool(x, ksize=[1, pool_ksize[0], pool_ksize[1], 1], strides=[1, pool_strides[0], pool_strides[1], 1], padding='SAME')\n",
    "\n",
    "\n",
    "\n",
    "\"\"\"\n",
    "DON'T MODIFY ANYTHING IN THIS CELL THAT IS BELOW THIS LINE\n",
    "\"\"\"\n",
    "tests.test_con_pool(conv2d_maxpool)"
   ]
  },
  {
   "cell_type": "markdown",
   "metadata": {},
   "source": [
    "### Flatten Layer\n",
    "Implement the `flatten` function to change the dimension of `x_tensor` from a 4-D tensor to a 2-D tensor.  The output should be the shape (*Batch Size*, *Flattened Image Size*). Shortcut option: you can use classes from the [TensorFlow Layers](https://www.tensorflow.org/api_docs/python/tf/layers) or [TensorFlow Layers (contrib)](https://www.tensorflow.org/api_guides/python/contrib.layers) packages for this layer. For more of a challenge, only use other TensorFlow packages."
   ]
  },
  {
   "cell_type": "code",
   "execution_count": 26,
   "metadata": {
    "collapsed": false
   },
   "outputs": [
    {
     "name": "stdout",
     "output_type": "stream",
     "text": [
      "Tests Passed\n"
     ]
    }
   ],
   "source": [
    "def flatten(x_tensor):\n",
    "    \"\"\"\n",
    "    Flatten x_tensor to (Batch Size, Flattened Image Size)\n",
    "    : x_tensor: A tensor of size (Batch Size, ...), where ... are the image dimensions.\n",
    "    : return: A tensor of size (Batch Size, Flattened Image Size).\n",
    "    \"\"\"\n",
    "    return tf.contrib.layers.flatten(x_tensor)\n",
    "    img_size = np.prod(x_tensor.get_shape().as_list()[1:])\n",
    "    res = tf.reshape(x_tensor, [-1, img_size])\n",
    "    return res\n",
    "    \n",
    "\n",
    "\"\"\"\n",
    "DON'T MODIFY ANYTHING IN THIS CELL THAT IS BELOW THIS LINE\n",
    "\"\"\"\n",
    "tests.test_flatten(flatten)"
   ]
  },
  {
   "cell_type": "markdown",
   "metadata": {},
   "source": [
    "### Fully-Connected Layer\n",
    "Implement the `fully_conn` function to apply a fully connected layer to `x_tensor` with the shape (*Batch Size*, *num_outputs*). Shortcut option: you can use classes from the [TensorFlow Layers](https://www.tensorflow.org/api_docs/python/tf/layers) or [TensorFlow Layers (contrib)](https://www.tensorflow.org/api_guides/python/contrib.layers) packages for this layer. For more of a challenge, only use other TensorFlow packages."
   ]
  },
  {
   "cell_type": "code",
   "execution_count": 14,
   "metadata": {
    "collapsed": false
   },
   "outputs": [
    {
     "name": "stdout",
     "output_type": "stream",
     "text": [
      "Tests Passed\n"
     ]
    }
   ],
   "source": [
    "def fully_conn(x_tensor, num_outputs):\n",
    "    \"\"\"\n",
    "    Apply a fully connected layer to x_tensor using weight and bias\n",
    "    : x_tensor: A 2-D tensor where the first dimension is batch size.\n",
    "    : num_outputs: The number of output that the new tensor should be.\n",
    "    : return: A 2-D tensor where the second dimension is num_outputs.\n",
    "    \"\"\"\n",
    "    # TODO: Implement Function\n",
    "    # print(x_tensor)\n",
    "    # print(num_outputs)\n",
    "    return tf.contrib.layers.fully_connected(x_tensor, num_outputs, activation_fn=tf.nn.relu)\n",
    "    print(x_tensor.get_shape())\n",
    "    n_inputs = x_tensor.get_shape().as_list()[1]\n",
    "    print(n_inputs)\n",
    "    weight = tf.Variable(tf.random_normal([n_inputs, num_outputs]))\n",
    "    bias = tf.Variable(tf.random_normal([num_outputs]))\n",
    "    res = tf.add(tf.matmul(x_tensor, weight), bias)\n",
    "    res = tf.nn.relu(res)\n",
    "    # print(res.get_shape())\n",
    "    return res\n",
    "\n",
    "\n",
    "\"\"\"\n",
    "DON'T MODIFY ANYTHING IN THIS CELL THAT IS BELOW THIS LINE\n",
    "\"\"\"\n",
    "tests.test_fully_conn(fully_conn)"
   ]
  },
  {
   "cell_type": "markdown",
   "metadata": {},
   "source": [
    "### Output Layer\n",
    "Implement the `output` function to apply a fully connected layer to `x_tensor` with the shape (*Batch Size*, *num_outputs*). Shortcut option: you can use classes from the [TensorFlow Layers](https://www.tensorflow.org/api_docs/python/tf/layers) or [TensorFlow Layers (contrib)](https://www.tensorflow.org/api_guides/python/contrib.layers) packages for this layer. For more of a challenge, only use other TensorFlow packages.\n",
    "\n",
    "**Note:** Activation, softmax, or cross entropy should **not** be applied to this."
   ]
  },
  {
   "cell_type": "code",
   "execution_count": 15,
   "metadata": {
    "collapsed": false
   },
   "outputs": [
    {
     "name": "stdout",
     "output_type": "stream",
     "text": [
      "Tests Passed\n"
     ]
    }
   ],
   "source": [
    "def output(x_tensor, num_outputs):\n",
    "    \"\"\"\n",
    "    Apply a output layer to x_tensor using weight and bias\n",
    "    : x_tensor: A 2-D tensor where the first dimension is batch size.\n",
    "    : num_outputs: The number of output that the new tensor should be.\n",
    "    : return: A 2-D tensor where the second dimension is num_outputs.\n",
    "    \"\"\"\n",
    "    return tf.contrib.layers.fully_connected(x_tensor, num_outputs)\n",
    "    n_inputs = x_tensor.get_shape().as_list()[1]\n",
    "    print(n_inputs)\n",
    "    print(num_outputs)\n",
    "    weight = tf.Variable(tf.random_normal([n_inputs, num_outputs]))\n",
    "    bias = tf.Variable(tf.random_normal([num_outputs]))\n",
    "    res = tf.add(tf.matmul(x_tensor, weight), bias)\n",
    "    return res\n",
    "\n",
    "\n",
    "\"\"\"\n",
    "DON'T MODIFY ANYTHING IN THIS CELL THAT IS BELOW THIS LINE\n",
    "\"\"\"\n",
    "tests.test_output(output)"
   ]
  },
  {
   "cell_type": "markdown",
   "metadata": {},
   "source": [
    "### Create Convolutional Model\n",
    "Implement the function `conv_net` to create a convolutional neural network model. The function takes in a batch of images, `x`, and outputs logits.  Use the layers you created above to create this model:\n",
    "\n",
    "* Apply 1, 2, or 3 Convolution and Max Pool layers\n",
    "* Apply a Flatten Layer\n",
    "* Apply 1, 2, or 3 Fully Connected Layers\n",
    "* Apply an Output Layer\n",
    "* Return the output\n",
    "* Apply [TensorFlow's Dropout](https://www.tensorflow.org/api_docs/python/tf/nn/dropout) to one or more layers in the model using `keep_prob`. "
   ]
  },
  {
   "cell_type": "code",
   "execution_count": 58,
   "metadata": {
    "collapsed": false
   },
   "outputs": [
    {
     "name": "stdout",
     "output_type": "stream",
     "text": [
      "[None, 32, 32, 3]\n",
      "Layer 1 (?, 16, 16, 32)\n",
      "Layer 2 (?, 8, 8, 32)\n",
      "Layer 1 (?, 16, 16, 32)\n",
      "Layer 2 (?, 8, 8, 32)\n",
      "Neural Network Built!\n"
     ]
    }
   ],
   "source": [
    "def conv_net(x, keep_prob):\n",
    "    \"\"\"\n",
    "    Create a convolutional neural network model\n",
    "    : x: Placeholder tensor that holds image data.\n",
    "    : keep_prob: Placeholder tensor that hold dropout keep probability.\n",
    "    : return: Tensor that represents logits\n",
    "    \"\"\"\n",
    "    # TODO: Apply 1, 2, or 3 Convolution and Max Pool layers\n",
    "    #    Play around with different number of outputs, kernel size and stride\n",
    "    # Function Definition from Above:\n",
    "    #    conv2d_maxpool(x_tensor, conv_num_outputs, conv_ksize, conv_strides, pool_ksize, pool_strides)\n",
    "    g = conv2d_maxpool(x, 32, (3, 3), (1, 1), (2, 2), (2, 2)) \n",
    "    print('Layer 1', g.get_shape())\n",
    "    \n",
    "    g = conv2d_maxpool(g, 32, (3, 3), (1, 1), (2, 2), (2, 2))\n",
    "    print('Layer 2', g.get_shape())\n",
    "    \n",
    "    # g = conv2d_maxpool(g, 64, (3, 3), (1, 1), (2, 2), (2, 2))\n",
    "    # print('Layer 3', g.get_shape())\n",
    "    \n",
    "\n",
    "    # TODO: Apply a Flatten Layer\n",
    "    # Function Definition from Above:\n",
    "    #   flatten(x_tensor)\n",
    "    g = flatten(g)\n",
    "    \n",
    "\n",
    "    # TODO: Apply 1, 2, or 3 Fully Connected Layers\n",
    "    #    Play around with different number of outputs\n",
    "    # Function Definition from Above:\n",
    "    #   fully_conn(x_tensor, num_outputs)\n",
    "    g = fully_conn(g, 64)\n",
    "    g = tf.nn.dropout(g, keep_prob)\n",
    "    \n",
    "    g = fully_conn(g, 128)\n",
    "    g = tf.nn.dropout(g, keep_prob)\n",
    "\n",
    "    \n",
    "    \n",
    "    # TODO: Apply an Output Layer\n",
    "    #    Set this to the number of classes\n",
    "    # Function Definition from Above:\n",
    "    #   output(x_tensor, num_outputs)\n",
    "    g = output(g, 10)\n",
    "    \n",
    "    \n",
    "    # TODO: return output\n",
    "    return g\n",
    "\n",
    "\n",
    "\"\"\"\n",
    "DON'T MODIFY ANYTHING IN THIS CELL THAT IS BELOW THIS LINE\n",
    "\"\"\"\n",
    "\n",
    "##############################\n",
    "## Build the Neural Network ##\n",
    "##############################\n",
    "\n",
    "# Remove previous weights, bias, inputs, etc..\n",
    "tf.reset_default_graph()\n",
    "\n",
    "# Inputs\n",
    "x = neural_net_image_input((32, 32, 3))\n",
    "y = neural_net_label_input(10)\n",
    "keep_prob = neural_net_keep_prob_input()\n",
    "\n",
    "# Model\n",
    "logits = conv_net(x, keep_prob)\n",
    "\n",
    "# Name logits Tensor, so that is can be loaded from disk after training\n",
    "logits = tf.identity(logits, name='logits')\n",
    "\n",
    "# Loss and Optimizer\n",
    "cost = tf.reduce_mean(tf.nn.softmax_cross_entropy_with_logits(logits=logits, labels=y))\n",
    "optimizer = tf.train.AdamOptimizer().minimize(cost)\n",
    "\n",
    "# Accuracy\n",
    "correct_pred = tf.equal(tf.argmax(logits, 1), tf.argmax(y, 1))\n",
    "accuracy = tf.reduce_mean(tf.cast(correct_pred, tf.float32), name='accuracy')\n",
    "\n",
    "tests.test_conv_net(conv_net)"
   ]
  },
  {
   "cell_type": "markdown",
   "metadata": {},
   "source": [
    "## Train the Neural Network\n",
    "### Single Optimization\n",
    "Implement the function `train_neural_network` to do a single optimization.  The optimization should use `optimizer` to optimize in `session` with a `feed_dict` of the following:\n",
    "* `x` for image input\n",
    "* `y` for labels\n",
    "* `keep_prob` for keep probability for dropout\n",
    "\n",
    "This function will be called for each batch, so `tf.global_variables_initializer()` has already been called.\n",
    "\n",
    "Note: Nothing needs to be returned. This function is only optimizing the neural network."
   ]
  },
  {
   "cell_type": "code",
   "execution_count": 46,
   "metadata": {
    "collapsed": false
   },
   "outputs": [
    {
     "name": "stdout",
     "output_type": "stream",
     "text": [
      "Tests Passed\n"
     ]
    }
   ],
   "source": [
    "def train_neural_network(session, optimizer, keep_probability, feature_batch, label_batch):\n",
    "    \"\"\"\n",
    "    Optimize the session on a batch of images and labels\n",
    "    : session: Current TensorFlow session\n",
    "    : optimizer: TensorFlow optimizer function\n",
    "    : keep_probability: keep probability\n",
    "    : feature_batch: Batch of Numpy image data\n",
    "    : label_batch: Batch of Numpy label data\n",
    "    \"\"\"\n",
    "    # TODO: Implement Function\n",
    "    session.run(optimizer, feed_dict={x: feature_batch, y: label_batch, keep_prob: keep_probability})\n",
    "\n",
    "\n",
    "\"\"\"\n",
    "DON'T MODIFY ANYTHING IN THIS CELL THAT IS BELOW THIS LINE\n",
    "\"\"\"\n",
    "tests.test_train_nn(train_neural_network)"
   ]
  },
  {
   "cell_type": "markdown",
   "metadata": {},
   "source": [
    "### Show Stats\n",
    "Implement the function `print_stats` to print loss and validation accuracy.  Use the global variables `valid_features` and `valid_labels` to calculate validation accuracy.  Use a keep probability of `1.0` to calculate the loss and validation accuracy."
   ]
  },
  {
   "cell_type": "code",
   "execution_count": 47,
   "metadata": {
    "collapsed": false
   },
   "outputs": [],
   "source": [
    "def print_stats(session, feature_batch, label_batch, cost, accuracy):\n",
    "    \"\"\"\n",
    "    Print information about loss and validation accuracy\n",
    "    : session: Current TensorFlow session\n",
    "    : feature_batch: Batch of Numpy image data\n",
    "    : label_batch: Batch of Numpy label data\n",
    "    : cost: TensorFlow cost function\n",
    "    : accuracy: TensorFlow accuracy function\n",
    "    \"\"\"\n",
    "    # TODO: Implement Function\n",
    "    loss = session.run(cost, feed_dict={\n",
    "                x: feature_batch,\n",
    "                y: label_batch,\n",
    "                keep_prob: 1.})\n",
    "    valid_acc = session.run(accuracy, feed_dict={x: valid_features, y: valid_labels, keep_prob: 1.})\n",
    "    print('Loss: ', loss)\n",
    "    print('Accuracy: ', valid_acc)\n"
   ]
  },
  {
   "cell_type": "markdown",
   "metadata": {},
   "source": [
    "### Hyperparameters\n",
    "Tune the following parameters:\n",
    "* Set `epochs` to the number of iterations until the network stops learning or start overfitting\n",
    "* Set `batch_size` to the highest number that your machine has memory for.  Most people set them to common sizes of memory:\n",
    " * 64\n",
    " * 128\n",
    " * 256\n",
    " * ...\n",
    "* Set `keep_probability` to the probability of keeping a node using dropout"
   ]
  },
  {
   "cell_type": "code",
   "execution_count": 48,
   "metadata": {
    "collapsed": true
   },
   "outputs": [],
   "source": [
    "# TODO: Tune Parameters\n",
    "epochs = 40\n",
    "batch_size = 128\n",
    "keep_probability = 0.85"
   ]
  },
  {
   "cell_type": "markdown",
   "metadata": {},
   "source": [
    "### Train on a Single CIFAR-10 Batch\n",
    "Instead of training the neural network on all the CIFAR-10 batches of data, let's use a single batch. This should save time while you iterate on the model to get a better accuracy.  Once the final validation accuracy is 50% or greater, run the model on all the data in the next section."
   ]
  },
  {
   "cell_type": "code",
   "execution_count": 59,
   "metadata": {
    "collapsed": false
   },
   "outputs": [
    {
     "name": "stdout",
     "output_type": "stream",
     "text": [
      "Checking the Training on a Single Batch...\n",
      "Epoch  1, CIFAR-10 Batch 1:  Loss:  2.11197\n",
      "Accuracy:  0.3306\n",
      "Epoch  2, CIFAR-10 Batch 1:  Loss:  1.86846\n",
      "Accuracy:  0.3956\n",
      "Epoch  3, CIFAR-10 Batch 1:  Loss:  1.72546\n",
      "Accuracy:  0.4452\n",
      "Epoch  4, CIFAR-10 Batch 1:  Loss:  1.61327\n",
      "Accuracy:  0.479\n",
      "Epoch  5, CIFAR-10 Batch 1:  Loss:  1.46169\n",
      "Accuracy:  0.503\n",
      "Epoch  6, CIFAR-10 Batch 1:  Loss:  1.43589\n",
      "Accuracy:  0.4898\n",
      "Epoch  7, CIFAR-10 Batch 1:  Loss:  1.26014\n",
      "Accuracy:  0.5194\n",
      "Epoch  8, CIFAR-10 Batch 1:  Loss:  1.11063\n",
      "Accuracy:  0.528\n",
      "Epoch  9, CIFAR-10 Batch 1:  Loss:  0.971991\n",
      "Accuracy:  0.5328\n",
      "Epoch 10, CIFAR-10 Batch 1:  Loss:  0.852719\n",
      "Accuracy:  0.5546\n",
      "Epoch 11, CIFAR-10 Batch 1:  Loss:  0.805129\n",
      "Accuracy:  0.5584\n",
      "Epoch 12, CIFAR-10 Batch 1:  Loss:  0.686567\n",
      "Accuracy:  0.5692\n",
      "Epoch 13, CIFAR-10 Batch 1:  Loss:  0.625594\n",
      "Accuracy:  0.572\n",
      "Epoch 14, CIFAR-10 Batch 1:  Loss:  0.55358\n",
      "Accuracy:  0.5794\n",
      "Epoch 15, CIFAR-10 Batch 1:  Loss:  0.485063\n",
      "Accuracy:  0.5634\n",
      "Epoch 16, CIFAR-10 Batch 1:  Loss:  0.464529\n",
      "Accuracy:  0.563\n",
      "Epoch 17, CIFAR-10 Batch 1:  Loss:  0.414184\n",
      "Accuracy:  0.5814\n",
      "Epoch 18, CIFAR-10 Batch 1:  Loss:  0.388419\n",
      "Accuracy:  0.5828\n",
      "Epoch 19, CIFAR-10 Batch 1:  Loss:  0.358409\n",
      "Accuracy:  0.588\n",
      "Epoch 20, CIFAR-10 Batch 1:  Loss:  0.310841\n",
      "Accuracy:  0.5878\n",
      "Epoch 21, CIFAR-10 Batch 1:  Loss:  0.317062\n",
      "Accuracy:  0.5712\n",
      "Epoch 22, CIFAR-10 Batch 1:  Loss:  0.358076\n",
      "Accuracy:  0.5702\n",
      "Epoch 23, CIFAR-10 Batch 1:  Loss:  0.251847\n",
      "Accuracy:  0.5736\n",
      "Epoch 24, CIFAR-10 Batch 1:  Loss:  0.263549\n",
      "Accuracy:  0.5734\n",
      "Epoch 25, CIFAR-10 Batch 1:  Loss:  0.230524\n",
      "Accuracy:  0.5698\n",
      "Epoch 26, CIFAR-10 Batch 1:  Loss:  0.223028\n",
      "Accuracy:  0.5674\n",
      "Epoch 27, CIFAR-10 Batch 1:  Loss:  0.179882\n",
      "Accuracy:  0.5744\n",
      "Epoch 28, CIFAR-10 Batch 1:  Loss:  0.171127\n",
      "Accuracy:  0.5708\n",
      "Epoch 29, CIFAR-10 Batch 1:  Loss:  0.182516\n",
      "Accuracy:  0.5652\n",
      "Epoch 30, CIFAR-10 Batch 1:  Loss:  0.119093\n",
      "Accuracy:  0.5726\n",
      "Epoch 31, CIFAR-10 Batch 1:  Loss:  0.12702\n",
      "Accuracy:  0.5708\n",
      "Epoch 32, CIFAR-10 Batch 1:  Loss:  0.126073\n",
      "Accuracy:  0.5554\n",
      "Epoch 33, CIFAR-10 Batch 1:  Loss:  0.1101\n",
      "Accuracy:  0.5764\n",
      "Epoch 34, CIFAR-10 Batch 1:  Loss:  0.102831\n",
      "Accuracy:  0.5638\n",
      "Epoch 35, CIFAR-10 Batch 1:  Loss:  0.104095\n",
      "Accuracy:  0.5578\n",
      "Epoch 36, CIFAR-10 Batch 1:  Loss:  0.0988971\n",
      "Accuracy:  0.562\n",
      "Epoch 37, CIFAR-10 Batch 1:  Loss:  0.0831539\n",
      "Accuracy:  0.5614\n",
      "Epoch 38, CIFAR-10 Batch 1:  Loss:  0.116228\n",
      "Accuracy:  0.5562\n",
      "Epoch 39, CIFAR-10 Batch 1:  Loss:  0.0894212\n",
      "Accuracy:  0.5554\n",
      "Epoch 40, CIFAR-10 Batch 1:  Loss:  0.0681726\n",
      "Accuracy:  0.5664\n"
     ]
    }
   ],
   "source": [
    "\"\"\"\n",
    "DON'T MODIFY ANYTHING IN THIS CELL\n",
    "\"\"\"\n",
    "print('Checking the Training on a Single Batch...')\n",
    "with tf.Session() as sess:\n",
    "    # Initializing the variables\n",
    "    sess.run(tf.global_variables_initializer())\n",
    "    \n",
    "    # Training cycle\n",
    "    for epoch in range(epochs):\n",
    "        batch_i = 1\n",
    "        for batch_features, batch_labels in helper.load_preprocess_training_batch(batch_i, batch_size):\n",
    "            train_neural_network(sess, optimizer, keep_probability, batch_features, batch_labels)\n",
    "        print('Epoch {:>2}, CIFAR-10 Batch {}:  '.format(epoch + 1, batch_i), end='')\n",
    "        print_stats(sess, batch_features, batch_labels, cost, accuracy)"
   ]
  },
  {
   "cell_type": "markdown",
   "metadata": {},
   "source": [
    "### Fully Train the Model\n",
    "Now that you got a good accuracy with a single CIFAR-10 batch, try it with all five batches."
   ]
  },
  {
   "cell_type": "code",
   "execution_count": 60,
   "metadata": {
    "collapsed": false
   },
   "outputs": [
    {
     "name": "stdout",
     "output_type": "stream",
     "text": [
      "Training...\n",
      "Epoch  1, CIFAR-10 Batch 1:  Loss:  2.05409\n",
      "Accuracy:  0.3196\n",
      "Epoch  1, CIFAR-10 Batch 2:  Loss:  1.63384\n",
      "Accuracy:  0.3996\n",
      "Epoch  1, CIFAR-10 Batch 3:  Loss:  1.44978\n",
      "Accuracy:  0.4206\n",
      "Epoch  1, CIFAR-10 Batch 4:  Loss:  1.47824\n",
      "Accuracy:  0.4694\n",
      "Epoch  1, CIFAR-10 Batch 5:  Loss:  1.5119\n",
      "Accuracy:  0.4848\n",
      "Epoch  2, CIFAR-10 Batch 1:  Loss:  1.66068\n",
      "Accuracy:  0.4992\n",
      "Epoch  2, CIFAR-10 Batch 2:  Loss:  1.3267\n",
      "Accuracy:  0.5294\n",
      "Epoch  2, CIFAR-10 Batch 3:  Loss:  1.10026\n",
      "Accuracy:  0.527\n",
      "Epoch  2, CIFAR-10 Batch 4:  Loss:  1.20428\n",
      "Accuracy:  0.5552\n",
      "Epoch  2, CIFAR-10 Batch 5:  Loss:  1.2653\n",
      "Accuracy:  0.559\n",
      "Epoch  3, CIFAR-10 Batch 1:  Loss:  1.24025\n",
      "Accuracy:  0.5724\n",
      "Epoch  3, CIFAR-10 Batch 2:  Loss:  1.14738\n",
      "Accuracy:  0.566\n",
      "Epoch  3, CIFAR-10 Batch 3:  Loss:  0.942797\n",
      "Accuracy:  0.579\n",
      "Epoch  3, CIFAR-10 Batch 4:  Loss:  1.07553\n",
      "Accuracy:  0.603\n",
      "Epoch  3, CIFAR-10 Batch 5:  Loss:  1.0378\n",
      "Accuracy:  0.6012\n",
      "Epoch  4, CIFAR-10 Batch 1:  Loss:  1.04569\n",
      "Accuracy:  0.6082\n",
      "Epoch  4, CIFAR-10 Batch 2:  Loss:  0.957108\n",
      "Accuracy:  0.6\n",
      "Epoch  4, CIFAR-10 Batch 3:  Loss:  0.803585\n",
      "Accuracy:  0.6092\n",
      "Epoch  4, CIFAR-10 Batch 4:  Loss:  0.911387\n",
      "Accuracy:  0.6162\n",
      "Epoch  4, CIFAR-10 Batch 5:  Loss:  0.907074\n",
      "Accuracy:  0.6184\n",
      "Epoch  5, CIFAR-10 Batch 1:  Loss:  0.91223\n",
      "Accuracy:  0.6242\n",
      "Epoch  5, CIFAR-10 Batch 2:  Loss:  0.90724\n",
      "Accuracy:  0.61\n",
      "Epoch  5, CIFAR-10 Batch 3:  Loss:  0.700367\n",
      "Accuracy:  0.6336\n",
      "Epoch  5, CIFAR-10 Batch 4:  Loss:  0.779432\n",
      "Accuracy:  0.6446\n",
      "Epoch  5, CIFAR-10 Batch 5:  Loss:  0.811092\n",
      "Accuracy:  0.6384\n",
      "Epoch  6, CIFAR-10 Batch 1:  Loss:  0.78737\n",
      "Accuracy:  0.6414\n",
      "Epoch  6, CIFAR-10 Batch 2:  Loss:  0.749406\n",
      "Accuracy:  0.6398\n",
      "Epoch  6, CIFAR-10 Batch 3:  Loss:  0.701698\n",
      "Accuracy:  0.6378\n",
      "Epoch  6, CIFAR-10 Batch 4:  Loss:  0.758513\n",
      "Accuracy:  0.6438\n",
      "Epoch  6, CIFAR-10 Batch 5:  Loss:  0.75232\n",
      "Accuracy:  0.6496\n",
      "Epoch  7, CIFAR-10 Batch 1:  Loss:  0.693386\n",
      "Accuracy:  0.648\n",
      "Epoch  7, CIFAR-10 Batch 2:  Loss:  0.686881\n",
      "Accuracy:  0.637\n",
      "Epoch  7, CIFAR-10 Batch 3:  Loss:  0.597127\n",
      "Accuracy:  0.6504\n",
      "Epoch  7, CIFAR-10 Batch 4:  Loss:  0.680129\n",
      "Accuracy:  0.6604\n",
      "Epoch  7, CIFAR-10 Batch 5:  Loss:  0.695481\n",
      "Accuracy:  0.6576\n",
      "Epoch  8, CIFAR-10 Batch 1:  Loss:  0.604897\n",
      "Accuracy:  0.661\n",
      "Epoch  8, CIFAR-10 Batch 2:  Loss:  0.548761\n",
      "Accuracy:  0.664\n",
      "Epoch  8, CIFAR-10 Batch 3:  Loss:  0.534835\n",
      "Accuracy:  0.6556\n",
      "Epoch  8, CIFAR-10 Batch 4:  Loss:  0.614849\n",
      "Accuracy:  0.6572\n",
      "Epoch  8, CIFAR-10 Batch 5:  Loss:  0.599318\n",
      "Accuracy:  0.6626\n",
      "Epoch  9, CIFAR-10 Batch 1:  Loss:  0.556069\n",
      "Accuracy:  0.6594\n",
      "Epoch  9, CIFAR-10 Batch 2:  Loss:  0.499278\n",
      "Accuracy:  0.6702\n",
      "Epoch  9, CIFAR-10 Batch 3:  Loss:  0.464227\n",
      "Accuracy:  0.6636\n",
      "Epoch  9, CIFAR-10 Batch 4:  Loss:  0.58693\n",
      "Accuracy:  0.6618\n",
      "Epoch  9, CIFAR-10 Batch 5:  Loss:  0.636163\n",
      "Accuracy:  0.644\n",
      "Epoch 10, CIFAR-10 Batch 1:  Loss:  0.518935\n",
      "Accuracy:  0.666\n",
      "Epoch 10, CIFAR-10 Batch 2:  Loss:  0.479014\n",
      "Accuracy:  0.6748\n",
      "Epoch 10, CIFAR-10 Batch 3:  Loss:  0.432957\n",
      "Accuracy:  0.6644\n",
      "Epoch 10, CIFAR-10 Batch 4:  Loss:  0.500198\n",
      "Accuracy:  0.6628\n",
      "Epoch 10, CIFAR-10 Batch 5:  Loss:  0.570761\n",
      "Accuracy:  0.6536\n",
      "Epoch 11, CIFAR-10 Batch 1:  Loss:  0.461537\n",
      "Accuracy:  0.6696\n",
      "Epoch 11, CIFAR-10 Batch 2:  Loss:  0.438485\n",
      "Accuracy:  0.6764\n",
      "Epoch 11, CIFAR-10 Batch 3:  Loss:  0.401672\n",
      "Accuracy:  0.6584\n",
      "Epoch 11, CIFAR-10 Batch 4:  Loss:  0.512011\n",
      "Accuracy:  0.6528\n",
      "Epoch 11, CIFAR-10 Batch 5:  Loss:  0.493083\n",
      "Accuracy:  0.664\n",
      "Epoch 12, CIFAR-10 Batch 1:  Loss:  0.525344\n",
      "Accuracy:  0.6546\n",
      "Epoch 12, CIFAR-10 Batch 2:  Loss:  0.408101\n",
      "Accuracy:  0.6714\n",
      "Epoch 12, CIFAR-10 Batch 3:  Loss:  0.360379\n",
      "Accuracy:  0.6672\n",
      "Epoch 12, CIFAR-10 Batch 4:  Loss:  0.462342\n",
      "Accuracy:  0.6654\n",
      "Epoch 12, CIFAR-10 Batch 5:  Loss:  0.464699\n",
      "Accuracy:  0.6696\n",
      "Epoch 13, CIFAR-10 Batch 1:  Loss:  0.484791\n",
      "Accuracy:  0.672\n",
      "Epoch 13, CIFAR-10 Batch 2:  Loss:  0.371565\n",
      "Accuracy:  0.6598\n",
      "Epoch 13, CIFAR-10 Batch 3:  Loss:  0.37361\n",
      "Accuracy:  0.6782\n",
      "Epoch 13, CIFAR-10 Batch 4:  Loss:  0.434595\n",
      "Accuracy:  0.6686\n",
      "Epoch 13, CIFAR-10 Batch 5:  Loss:  0.419605\n",
      "Accuracy:  0.6702\n",
      "Epoch 14, CIFAR-10 Batch 1:  Loss:  0.457602\n",
      "Accuracy:  0.671\n",
      "Epoch 14, CIFAR-10 Batch 2:  Loss:  0.382948\n",
      "Accuracy:  0.665\n",
      "Epoch 14, CIFAR-10 Batch 3:  Loss:  0.319841\n",
      "Accuracy:  0.6682\n",
      "Epoch 14, CIFAR-10 Batch 4:  Loss:  0.418865\n",
      "Accuracy:  0.6712\n",
      "Epoch 14, CIFAR-10 Batch 5:  Loss:  0.337149\n",
      "Accuracy:  0.6658\n",
      "Epoch 15, CIFAR-10 Batch 1:  Loss:  0.459767\n",
      "Accuracy:  0.6738\n",
      "Epoch 15, CIFAR-10 Batch 2:  Loss:  0.310167\n",
      "Accuracy:  0.666\n",
      "Epoch 15, CIFAR-10 Batch 3:  Loss:  0.382713\n",
      "Accuracy:  0.6458\n",
      "Epoch 15, CIFAR-10 Batch 4:  Loss:  0.419582\n",
      "Accuracy:  0.6642\n",
      "Epoch 15, CIFAR-10 Batch 5:  Loss:  0.362263\n",
      "Accuracy:  0.6646\n",
      "Epoch 16, CIFAR-10 Batch 1:  Loss:  0.40384\n",
      "Accuracy:  0.6816\n",
      "Epoch 16, CIFAR-10 Batch 2:  Loss:  0.306757\n",
      "Accuracy:  0.6656\n",
      "Epoch 16, CIFAR-10 Batch 3:  Loss:  0.324588\n",
      "Accuracy:  0.6596\n",
      "Epoch 16, CIFAR-10 Batch 4:  Loss:  0.365662\n",
      "Accuracy:  0.6608\n",
      "Epoch 16, CIFAR-10 Batch 5:  Loss:  0.326852\n",
      "Accuracy:  0.6696\n",
      "Epoch 17, CIFAR-10 Batch 1:  Loss:  0.398527\n",
      "Accuracy:  0.6792\n",
      "Epoch 17, CIFAR-10 Batch 2:  Loss:  0.251564\n",
      "Accuracy:  0.6598\n",
      "Epoch 17, CIFAR-10 Batch 3:  Loss:  0.33488\n",
      "Accuracy:  0.666\n",
      "Epoch 17, CIFAR-10 Batch 4:  Loss:  0.381748\n",
      "Accuracy:  0.6472\n",
      "Epoch 17, CIFAR-10 Batch 5:  Loss:  0.294627\n",
      "Accuracy:  0.6718\n",
      "Epoch 18, CIFAR-10 Batch 1:  Loss:  0.43307\n",
      "Accuracy:  0.67\n",
      "Epoch 18, CIFAR-10 Batch 2:  Loss:  0.268571\n",
      "Accuracy:  0.6644\n",
      "Epoch 18, CIFAR-10 Batch 3:  Loss:  0.290366\n",
      "Accuracy:  0.6622\n",
      "Epoch 18, CIFAR-10 Batch 4:  Loss:  0.381195\n",
      "Accuracy:  0.6548\n",
      "Epoch 18, CIFAR-10 Batch 5:  Loss:  0.282807\n",
      "Accuracy:  0.6726\n",
      "Epoch 19, CIFAR-10 Batch 1:  Loss:  0.455168\n",
      "Accuracy:  0.6602\n",
      "Epoch 19, CIFAR-10 Batch 2:  Loss:  0.255059\n",
      "Accuracy:  0.6704\n",
      "Epoch 19, CIFAR-10 Batch 3:  Loss:  0.259198\n",
      "Accuracy:  0.6644\n",
      "Epoch 19, CIFAR-10 Batch 4:  Loss:  0.345814\n",
      "Accuracy:  0.658\n",
      "Epoch 19, CIFAR-10 Batch 5:  Loss:  0.269762\n",
      "Accuracy:  0.6622\n",
      "Epoch 20, CIFAR-10 Batch 1:  Loss:  0.377711\n",
      "Accuracy:  0.6642\n",
      "Epoch 20, CIFAR-10 Batch 2:  Loss:  0.223708\n",
      "Accuracy:  0.6666\n",
      "Epoch 20, CIFAR-10 Batch 3:  Loss:  0.321443\n",
      "Accuracy:  0.6608\n",
      "Epoch 20, CIFAR-10 Batch 4:  Loss:  0.323871\n",
      "Accuracy:  0.646\n",
      "Epoch 20, CIFAR-10 Batch 5:  Loss:  0.254353\n",
      "Accuracy:  0.6726\n",
      "Epoch 21, CIFAR-10 Batch 1:  Loss:  0.363578\n",
      "Accuracy:  0.6674\n",
      "Epoch 21, CIFAR-10 Batch 2:  Loss:  0.260531\n",
      "Accuracy:  0.6772\n",
      "Epoch 21, CIFAR-10 Batch 3:  Loss:  0.238893\n",
      "Accuracy:  0.6634\n",
      "Epoch 21, CIFAR-10 Batch 4:  Loss:  0.287912\n",
      "Accuracy:  0.6564\n",
      "Epoch 21, CIFAR-10 Batch 5:  Loss:  0.29983\n",
      "Accuracy:  0.6676\n",
      "Epoch 22, CIFAR-10 Batch 1:  Loss:  0.390179\n",
      "Accuracy:  0.667\n",
      "Epoch 22, CIFAR-10 Batch 2:  Loss:  0.190795\n",
      "Accuracy:  0.6748\n",
      "Epoch 22, CIFAR-10 Batch 3:  Loss:  0.237548\n",
      "Accuracy:  0.6704\n",
      "Epoch 22, CIFAR-10 Batch 4:  Loss:  0.25599\n",
      "Accuracy:  0.661\n",
      "Epoch 22, CIFAR-10 Batch 5:  Loss:  0.222527\n",
      "Accuracy:  0.6782\n",
      "Epoch 23, CIFAR-10 Batch 1:  Loss:  0.374665\n",
      "Accuracy:  0.6666\n",
      "Epoch 23, CIFAR-10 Batch 2:  Loss:  0.194873\n",
      "Accuracy:  0.6698\n",
      "Epoch 23, CIFAR-10 Batch 3:  Loss:  0.237565\n",
      "Accuracy:  0.6664\n",
      "Epoch 23, CIFAR-10 Batch 4:  Loss:  0.238659\n",
      "Accuracy:  0.6602\n",
      "Epoch 23, CIFAR-10 Batch 5:  Loss:  0.245081\n",
      "Accuracy:  0.682\n",
      "Epoch 24, CIFAR-10 Batch 1:  Loss:  0.339903\n",
      "Accuracy:  0.6688\n",
      "Epoch 24, CIFAR-10 Batch 2:  Loss:  0.16356\n",
      "Accuracy:  0.6698\n",
      "Epoch 24, CIFAR-10 Batch 3:  Loss:  0.234367\n",
      "Accuracy:  0.6674\n",
      "Epoch 24, CIFAR-10 Batch 4:  Loss:  0.233247\n",
      "Accuracy:  0.656\n",
      "Epoch 24, CIFAR-10 Batch 5:  Loss:  0.252157\n",
      "Accuracy:  0.6698\n",
      "Epoch 25, CIFAR-10 Batch 1:  Loss:  0.320652\n",
      "Accuracy:  0.6692\n",
      "Epoch 25, CIFAR-10 Batch 2:  Loss:  0.188712\n",
      "Accuracy:  0.6678\n",
      "Epoch 25, CIFAR-10 Batch 3:  Loss:  0.22751\n",
      "Accuracy:  0.6636\n",
      "Epoch 25, CIFAR-10 Batch 4:  Loss:  0.200144\n",
      "Accuracy:  0.6644\n",
      "Epoch 25, CIFAR-10 Batch 5:  Loss:  0.224692\n",
      "Accuracy:  0.674\n",
      "Epoch 26, CIFAR-10 Batch 1:  Loss:  0.334728\n",
      "Accuracy:  0.6512\n",
      "Epoch 26, CIFAR-10 Batch 2:  Loss:  0.188336\n",
      "Accuracy:  0.665\n",
      "Epoch 26, CIFAR-10 Batch 3:  Loss:  0.208449\n",
      "Accuracy:  0.6642\n",
      "Epoch 26, CIFAR-10 Batch 4:  Loss:  0.21011\n",
      "Accuracy:  0.6644\n",
      "Epoch 26, CIFAR-10 Batch 5:  Loss:  0.227054\n",
      "Accuracy:  0.668\n",
      "Epoch 27, CIFAR-10 Batch 1:  Loss:  0.284195\n",
      "Accuracy:  0.6574\n",
      "Epoch 27, CIFAR-10 Batch 2:  Loss:  0.192125\n",
      "Accuracy:  0.6776\n",
      "Epoch 27, CIFAR-10 Batch 3:  Loss:  0.213919\n",
      "Accuracy:  0.655\n",
      "Epoch 27, CIFAR-10 Batch 4:  Loss:  0.246539\n",
      "Accuracy:  0.6678\n",
      "Epoch 27, CIFAR-10 Batch 5:  Loss:  0.227913\n",
      "Accuracy:  0.6678\n",
      "Epoch 28, CIFAR-10 Batch 1:  Loss:  0.333076\n",
      "Accuracy:  0.6534\n",
      "Epoch 28, CIFAR-10 Batch 2:  Loss:  0.156736\n",
      "Accuracy:  0.6622\n",
      "Epoch 28, CIFAR-10 Batch 3:  Loss:  0.184029\n",
      "Accuracy:  0.6622\n",
      "Epoch 28, CIFAR-10 Batch 4:  Loss:  0.188435\n",
      "Accuracy:  0.6664\n",
      "Epoch 28, CIFAR-10 Batch 5:  Loss:  0.205382\n",
      "Accuracy:  0.6704\n",
      "Epoch 29, CIFAR-10 Batch 1:  Loss:  0.292274\n",
      "Accuracy:  0.661\n",
      "Epoch 29, CIFAR-10 Batch 2:  Loss:  0.188594\n",
      "Accuracy:  0.6662\n",
      "Epoch 29, CIFAR-10 Batch 3:  Loss:  0.182974\n",
      "Accuracy:  0.663\n",
      "Epoch 29, CIFAR-10 Batch 4:  Loss:  0.196549\n",
      "Accuracy:  0.6646\n",
      "Epoch 29, CIFAR-10 Batch 5:  Loss:  0.221724\n",
      "Accuracy:  0.6678\n",
      "Epoch 30, CIFAR-10 Batch 1:  Loss:  0.283222\n",
      "Accuracy:  0.654\n",
      "Epoch 30, CIFAR-10 Batch 2:  Loss:  0.146603\n",
      "Accuracy:  0.667\n",
      "Epoch 30, CIFAR-10 Batch 3:  Loss:  0.188729\n",
      "Accuracy:  0.6596\n",
      "Epoch 30, CIFAR-10 Batch 4:  Loss:  0.18478\n",
      "Accuracy:  0.6626\n",
      "Epoch 30, CIFAR-10 Batch 5:  Loss:  0.193434\n",
      "Accuracy:  0.6606\n",
      "Epoch 31, CIFAR-10 Batch 1:  Loss:  0.257428\n",
      "Accuracy:  0.66\n",
      "Epoch 31, CIFAR-10 Batch 2:  Loss:  0.17195\n",
      "Accuracy:  0.6592\n",
      "Epoch 31, CIFAR-10 Batch 3:  Loss:  0.16864\n",
      "Accuracy:  0.658\n",
      "Epoch 31, CIFAR-10 Batch 4:  Loss:  0.156386\n",
      "Accuracy:  0.658\n",
      "Epoch 31, CIFAR-10 Batch 5:  Loss:  0.219554\n",
      "Accuracy:  0.654\n",
      "Epoch 32, CIFAR-10 Batch 1:  Loss:  0.234293\n",
      "Accuracy:  0.67\n",
      "Epoch 32, CIFAR-10 Batch 2:  Loss:  0.148494\n",
      "Accuracy:  0.662\n",
      "Epoch 32, CIFAR-10 Batch 3:  Loss:  0.168094\n",
      "Accuracy:  0.6592\n",
      "Epoch 32, CIFAR-10 Batch 4:  Loss:  0.169223\n",
      "Accuracy:  0.6582\n",
      "Epoch 32, CIFAR-10 Batch 5:  Loss:  0.205807\n",
      "Accuracy:  0.6562\n",
      "Epoch 33, CIFAR-10 Batch 1:  Loss:  0.227451\n",
      "Accuracy:  0.6654\n",
      "Epoch 33, CIFAR-10 Batch 2:  Loss:  0.144437\n",
      "Accuracy:  0.665\n",
      "Epoch 33, CIFAR-10 Batch 3:  Loss:  0.165306\n",
      "Accuracy:  0.6498\n",
      "Epoch 33, CIFAR-10 Batch 4:  Loss:  0.157155\n",
      "Accuracy:  0.6552\n",
      "Epoch 33, CIFAR-10 Batch 5:  Loss:  0.190265\n",
      "Accuracy:  0.6584\n",
      "Epoch 34, CIFAR-10 Batch 1:  Loss:  0.164005\n",
      "Accuracy:  0.6644\n",
      "Epoch 34, CIFAR-10 Batch 2:  Loss:  0.151948\n",
      "Accuracy:  0.661\n",
      "Epoch 34, CIFAR-10 Batch 3:  Loss:  0.161915\n",
      "Accuracy:  0.644\n",
      "Epoch 34, CIFAR-10 Batch 4:  Loss:  0.155837\n",
      "Accuracy:  0.6466\n",
      "Epoch 34, CIFAR-10 Batch 5:  Loss:  0.2175\n",
      "Accuracy:  0.6644\n",
      "Epoch 35, CIFAR-10 Batch 1:  Loss:  0.184118\n",
      "Accuracy:  0.6682\n",
      "Epoch 35, CIFAR-10 Batch 2:  Loss:  0.12852\n",
      "Accuracy:  0.6532\n",
      "Epoch 35, CIFAR-10 Batch 3:  Loss:  0.196006\n",
      "Accuracy:  0.65\n",
      "Epoch 35, CIFAR-10 Batch 4:  Loss:  0.156394\n",
      "Accuracy:  0.6542\n",
      "Epoch 35, CIFAR-10 Batch 5:  Loss:  0.128381\n",
      "Accuracy:  0.6638\n",
      "Epoch 36, CIFAR-10 Batch 1:  Loss:  0.198725\n",
      "Accuracy:  0.654\n",
      "Epoch 36, CIFAR-10 Batch 2:  Loss:  0.130763\n",
      "Accuracy:  0.6612\n",
      "Epoch 36, CIFAR-10 Batch 3:  Loss:  0.146039\n",
      "Accuracy:  0.6506\n",
      "Epoch 36, CIFAR-10 Batch 4:  Loss:  0.16059\n",
      "Accuracy:  0.6484\n",
      "Epoch 36, CIFAR-10 Batch 5:  Loss:  0.165704\n",
      "Accuracy:  0.662\n",
      "Epoch 37, CIFAR-10 Batch 1:  Loss:  0.166269\n",
      "Accuracy:  0.6716\n",
      "Epoch 37, CIFAR-10 Batch 2:  Loss:  0.120069\n",
      "Accuracy:  0.6702\n",
      "Epoch 37, CIFAR-10 Batch 3:  Loss:  0.144697\n",
      "Accuracy:  0.6462\n",
      "Epoch 37, CIFAR-10 Batch 4:  Loss:  0.144813\n",
      "Accuracy:  0.6526\n",
      "Epoch 37, CIFAR-10 Batch 5:  Loss:  0.116493\n",
      "Accuracy:  0.6732\n",
      "Epoch 38, CIFAR-10 Batch 1:  Loss:  0.1929\n",
      "Accuracy:  0.6706\n",
      "Epoch 38, CIFAR-10 Batch 2:  Loss:  0.119534\n",
      "Accuracy:  0.661\n",
      "Epoch 38, CIFAR-10 Batch 3:  Loss:  0.164056\n",
      "Accuracy:  0.6546\n",
      "Epoch 38, CIFAR-10 Batch 4:  Loss:  0.129765\n",
      "Accuracy:  0.6508\n",
      "Epoch 38, CIFAR-10 Batch 5:  Loss:  0.128535\n",
      "Accuracy:  0.6694\n",
      "Epoch 39, CIFAR-10 Batch 1:  Loss:  0.152399\n",
      "Accuracy:  0.6702\n",
      "Epoch 39, CIFAR-10 Batch 2:  Loss:  0.147363\n",
      "Accuracy:  0.664\n",
      "Epoch 39, CIFAR-10 Batch 3:  Loss:  0.155805\n",
      "Accuracy:  0.6566\n",
      "Epoch 39, CIFAR-10 Batch 4:  Loss:  0.176213\n",
      "Accuracy:  0.65\n",
      "Epoch 39, CIFAR-10 Batch 5:  Loss:  0.121091\n",
      "Accuracy:  0.6624\n",
      "Epoch 40, CIFAR-10 Batch 1:  Loss:  0.131114\n",
      "Accuracy:  0.6612\n",
      "Epoch 40, CIFAR-10 Batch 2:  Loss:  0.121948\n",
      "Accuracy:  0.6668\n",
      "Epoch 40, CIFAR-10 Batch 3:  Loss:  0.132283\n",
      "Accuracy:  0.6414\n",
      "Epoch 40, CIFAR-10 Batch 4:  Loss:  0.149591\n",
      "Accuracy:  0.651\n",
      "Epoch 40, CIFAR-10 Batch 5:  Loss:  0.114687\n",
      "Accuracy:  0.6656\n"
     ]
    }
   ],
   "source": [
    "\"\"\"\n",
    "DON'T MODIFY ANYTHING IN THIS CELL\n",
    "\"\"\"\n",
    "save_model_path = './image_classification'\n",
    "\n",
    "print('Training...')\n",
    "with tf.Session() as sess:\n",
    "    # Initializing the variables\n",
    "    sess.run(tf.global_variables_initializer())\n",
    "    \n",
    "    # Training cycle\n",
    "    for epoch in range(epochs):\n",
    "        # Loop over all batches\n",
    "        n_batches = 5\n",
    "        for batch_i in range(1, n_batches + 1):\n",
    "            for batch_features, batch_labels in helper.load_preprocess_training_batch(batch_i, batch_size):\n",
    "                train_neural_network(sess, optimizer, keep_probability, batch_features, batch_labels)\n",
    "            print('Epoch {:>2}, CIFAR-10 Batch {}:  '.format(epoch + 1, batch_i), end='')\n",
    "            print_stats(sess, batch_features, batch_labels, cost, accuracy)\n",
    "            \n",
    "    # Save Model\n",
    "    saver = tf.train.Saver()\n",
    "    save_path = saver.save(sess, save_model_path)"
   ]
  },
  {
   "cell_type": "markdown",
   "metadata": {},
   "source": [
    "# Checkpoint\n",
    "The model has been saved to disk.\n",
    "## Test Model\n",
    "Test your model against the test dataset.  This will be your final accuracy. You should have an accuracy greater than 50%. If you don't, keep tweaking the model architecture and parameters."
   ]
  },
  {
   "cell_type": "code",
   "execution_count": 61,
   "metadata": {
    "collapsed": false
   },
   "outputs": [
    {
     "name": "stdout",
     "output_type": "stream",
     "text": [
      "Testing Accuracy: 0.6578322784810127\n",
      "\n"
     ]
    },
    {
     "data": {
      "image/png": "[encoded data removed]",
      "text/plain": [
       "<matplotlib.figure.Figure at 0x7f2cd28b2438>"
      ]
     },
     "metadata": {
      "image/png": {
       "height": 319,
       "width": 355
      }
     },
     "output_type": "display_data"
    }
   ],
   "source": [
    "\"\"\"\n",
    "DON'T MODIFY ANYTHING IN THIS CELL\n",
    "\"\"\"\n",
    "%matplotlib inline\n",
    "%config InlineBackend.figure_format = 'retina'\n",
    "\n",
    "import tensorflow as tf\n",
    "import pickle\n",
    "import helper\n",
    "import random\n",
    "\n",
    "# Set batch size if not already set\n",
    "try:\n",
    "    if batch_size:\n",
    "        pass\n",
    "except NameError:\n",
    "    batch_size = 64\n",
    "\n",
    "save_model_path = './image_classification'\n",
    "n_samples = 4\n",
    "top_n_predictions = 3\n",
    "\n",
    "def test_model():\n",
    "    \"\"\"\n",
    "    Test the saved model against the test dataset\n",
    "    \"\"\"\n",
    "\n",
    "    test_features, test_labels = pickle.load(open('preprocess_training.p', mode='rb'))\n",
    "    loaded_graph = tf.Graph()\n",
    "\n",
    "    with tf.Session(graph=loaded_graph) as sess:\n",
    "        # Load model\n",
    "        loader = tf.train.import_meta_graph(save_model_path + '.meta')\n",
    "        loader.restore(sess, save_model_path)\n",
    "\n",
    "        # Get Tensors from loaded model\n",
    "        loaded_x = loaded_graph.get_tensor_by_name('x:0')\n",
    "        loaded_y = loaded_graph.get_tensor_by_name('y:0')\n",
    "        loaded_keep_prob = loaded_graph.get_tensor_by_name('keep_prob:0')\n",
    "        loaded_logits = loaded_graph.get_tensor_by_name('logits:0')\n",
    "        loaded_acc = loaded_graph.get_tensor_by_name('accuracy:0')\n",
    "        \n",
    "        # Get accuracy in batches for memory limitations\n",
    "        test_batch_acc_total = 0\n",
    "        test_batch_count = 0\n",
    "        \n",
    "        for train_feature_batch, train_label_batch in helper.batch_features_labels(test_features, test_labels, batch_size):\n",
    "            test_batch_acc_total += sess.run(\n",
    "                loaded_acc,\n",
    "                feed_dict={loaded_x: train_feature_batch, loaded_y: train_label_batch, loaded_keep_prob: 1.0})\n",
    "            test_batch_count += 1\n",
    "\n",
    "        print('Testing Accuracy: {}\\n'.format(test_batch_acc_total/test_batch_count))\n",
    "\n",
    "        # Print Random Samples\n",
    "        random_test_features, random_test_labels = tuple(zip(*random.sample(list(zip(test_features, test_labels)), n_samples)))\n",
    "        random_test_predictions = sess.run(\n",
    "            tf.nn.top_k(tf.nn.softmax(loaded_logits), top_n_predictions),\n",
    "            feed_dict={loaded_x: random_test_features, loaded_y: random_test_labels, loaded_keep_prob: 1.0})\n",
    "        helper.display_image_predictions(random_test_features, random_test_labels, random_test_predictions)\n",
    "\n",
    "\n",
    "test_model()"
   ]
  },
  {
   "cell_type": "markdown",
   "metadata": {},
   "source": [
    "## Why 50-70% Accuracy?\n",
    "You might be wondering why you can't get an accuracy any higher. First things first, 50% isn't bad for a simple CNN.  Pure guessing would get you 10% accuracy. However, you might notice people are getting scores [well above 70%](http://rodrigob.github.io/are_we_there_yet/build/classification_datasets_results.html#43494641522d3130).  That's because we haven't taught you all there is to know about neural networks. We still need to cover a few more techniques.\n",
    "## Submitting This Project\n",
    "When submitting this project, make sure to run all the cells before saving the notebook.  Save the notebook file as \"dlnd_image_classification.ipynb\" and save it as a HTML file under \"File\" -> \"Download as\".  Include the \"helper.py\" and \"problem_unittests.py\" files in your submission."
   ]
  }
 ],
 "metadata": {
  "kernelspec": {
   "display_name": "Python 3",
   "language": "python",
   "name": "python3"
  },
  "language_info": {
   "codemirror_mode": {
    "name": "ipython",
    "version": 3
   },
   "file_extension": ".py",
   "mimetype": "text/x-python",
   "name": "python",
   "nbconvert_exporter": "python",
   "pygments_lexer": "ipython3",
   "version": "3.5.3"
  }
 },
 "nbformat": 4,
 "nbformat_minor": 0
}
